{
  "cells": [
    {
      "cell_type": "markdown",
      "metadata": {
        "id": "view-in-github",
        "colab_type": "text"
      },
      "source": [
        "<a href=\"https://colab.research.google.com/github/sakshissg/AIML-Classification-model/blob/main/Image%20Classification.ipynb\" target=\"_parent\"><img src=\"https://colab.research.google.com/assets/colab-badge.svg\" alt=\"Open In Colab\"/></a>"
      ]
    },
    {
      "cell_type": "code",
      "execution_count": null,
      "metadata": {
        "id": "sDAgc5gOf8j1"
      },
      "outputs": [],
      "source": [
        "#Image Classification"
      ]
    },
    {
      "cell_type": "code",
      "execution_count": 1,
      "metadata": {
        "id": "qV2u-7P6hGXr"
      },
      "outputs": [],
      "source": [
        "import tensorflow as tf\n",
        "from tensorflow.keras.models import Sequential\n",
        "from tensorflow.keras.layers import Conv2D, MaxPooling2D, Flatten, Dense, Dropout"
      ]
    },
    {
      "cell_type": "code",
      "execution_count": 2,
      "metadata": {
        "id": "tBbAfVN_ip-G",
        "colab": {
          "base_uri": "https://localhost:8080/"
        },
        "outputId": "270bbe4d-8f96-40ec-b5bd-e7fa5700881d"
      },
      "outputs": [
        {
          "output_type": "stream",
          "name": "stdout",
          "text": [
            "Downloading data from https://www.cs.toronto.edu/~kriz/cifar-10-python.tar.gz\n",
            "170498071/170498071 [==============================] - 3s 0us/step\n"
          ]
        }
      ],
      "source": [
        "cifar10=tf.keras.datasets.cifar10\n",
        "(x_train, y_train), (x_test, y_test)= cifar10.load_data()\n",
        "x_train, x_test = x_train/255.0, x_test/255.0                  # the /255.0 dividing the pixel value, stores colors values into image"
      ]
    },
    {
      "cell_type": "code",
      "execution_count": 3,
      "metadata": {
        "id": "1GsXWxGpjGxB"
      },
      "outputs": [],
      "source": [
        "model= Sequential([\n",
        "    Conv2D(32,(3,3), activation='relu', input_shape=(32,32,3)),\n",
        "    MaxPooling2D(2,2),\n",
        "    Conv2D(64, (3,3), activation='relu'),\n",
        "    MaxPooling2D(2,2),\n",
        "    Flatten(),\n",
        "    Dense(64, activation='relu'),\n",
        "    Dense(10, activation='softmax')\n",
        "])"
      ]
    },
    {
      "cell_type": "code",
      "execution_count": 4,
      "metadata": {
        "id": "INSMBKzNm1H9"
      },
      "outputs": [],
      "source": [
        "model.compile(optimizer='adam', loss='sparse_categorical_crossentropy', metrics=['accuracy'])"
      ]
    },
    {
      "cell_type": "code",
      "execution_count": 5,
      "metadata": {
        "colab": {
          "base_uri": "https://localhost:8080/"
        },
        "id": "lFdU3LjWn9tB",
        "outputId": "767162b8-1194-40db-ef0c-a2c3ab5d6cf1"
      },
      "outputs": [
        {
          "output_type": "stream",
          "name": "stdout",
          "text": [
            "Epoch 1/10\n",
            "1172/1172 [==============================] - 49s 41ms/step - loss: 1.5480 - accuracy: 0.4397 - val_loss: 1.2945 - val_accuracy: 0.5373\n",
            "Epoch 2/10\n",
            "1172/1172 [==============================] - 48s 41ms/step - loss: 1.2040 - accuracy: 0.5752 - val_loss: 1.1741 - val_accuracy: 0.5886\n",
            "Epoch 3/10\n",
            "1172/1172 [==============================] - 49s 42ms/step - loss: 1.0753 - accuracy: 0.6225 - val_loss: 1.1385 - val_accuracy: 0.6114\n",
            "Epoch 4/10\n",
            "1172/1172 [==============================] - 47s 40ms/step - loss: 0.9872 - accuracy: 0.6551 - val_loss: 1.0324 - val_accuracy: 0.6424\n",
            "Epoch 5/10\n",
            "1172/1172 [==============================] - 46s 40ms/step - loss: 0.9146 - accuracy: 0.6803 - val_loss: 0.9846 - val_accuracy: 0.6612\n",
            "Epoch 6/10\n",
            "1172/1172 [==============================] - 47s 40ms/step - loss: 0.8580 - accuracy: 0.7012 - val_loss: 1.0188 - val_accuracy: 0.6478\n",
            "Epoch 7/10\n",
            "1172/1172 [==============================] - 48s 41ms/step - loss: 0.8085 - accuracy: 0.7177 - val_loss: 0.9874 - val_accuracy: 0.6651\n",
            "Epoch 8/10\n",
            "1172/1172 [==============================] - 47s 40ms/step - loss: 0.7665 - accuracy: 0.7347 - val_loss: 0.9825 - val_accuracy: 0.6598\n",
            "Epoch 9/10\n",
            "1172/1172 [==============================] - 46s 39ms/step - loss: 0.7206 - accuracy: 0.7510 - val_loss: 0.9692 - val_accuracy: 0.6754\n",
            "Epoch 10/10\n",
            "1172/1172 [==============================] - 46s 40ms/step - loss: 0.6849 - accuracy: 0.7602 - val_loss: 0.9811 - val_accuracy: 0.6715\n"
          ]
        },
        {
          "output_type": "execute_result",
          "data": {
            "text/plain": [
              "<keras.src.callbacks.History at 0x7a5bfc7d7490>"
            ]
          },
          "metadata": {},
          "execution_count": 5
        }
      ],
      "source": [
        "model.fit(x_train, y_train, epochs=10, validation_split=0.25)"
      ]
    },
    {
      "cell_type": "code",
      "execution_count": 6,
      "metadata": {
        "id": "p2w-0XDxowNd"
      },
      "outputs": [],
      "source": [
        "from tensorflow.keras.preprocessing import image\n",
        "import numpy as np\n",
        "import tensorflow as tf"
      ]
    },
    {
      "cell_type": "code",
      "source": [
        "# https://www.cs.toronto.edu/~kriz/cifar.html\n",
        "# website for class identification"
      ],
      "metadata": {
        "id": "oNCIChFNvdP3"
      },
      "execution_count": 7,
      "outputs": []
    },
    {
      "cell_type": "code",
      "source": [
        "# image preprocessing\n",
        "path=\"/content/cat pic.jpg\"\n",
        "img=image.load_img(path,target_size=(32,32))\n",
        "img_array= image.img_to_array(img)\n",
        "img_array=tf.expand_dims(img_array,0)\n",
        "img_array/=255.0\n",
        "\n",
        "prediction= model.predict(img_array)\n",
        "pred_class= np.argmax(prediction, axis=1)\n",
        "\n",
        "print(\"prediction class is: \", pred_class)"
      ],
      "metadata": {
        "colab": {
          "base_uri": "https://localhost:8080/"
        },
        "id": "AwbnIZELogFV",
        "outputId": "6fa7c8c9-3dbc-4a7e-9d8e-3d5f7fc41a8b"
      },
      "execution_count": 9,
      "outputs": [
        {
          "output_type": "stream",
          "name": "stdout",
          "text": [
            "1/1 [==============================] - 0s 117ms/step\n",
            "prediction class is:  [6]\n"
          ]
        }
      ]
    },
    {
      "cell_type": "code",
      "source": [
        "# image preprocessing\n",
        "path=\"/content/plane.jpg\"\n",
        "img=image.load_img(path,target_size=(32,32))\n",
        "img_array= image.img_to_array(img)\n",
        "img_array=tf.expand_dims(img_array,0)\n",
        "img_array/=255.0\n",
        "\n",
        "prediction= model.predict(img_array)\n",
        "pred_class= np.argmax(prediction, axis=1)\n",
        "\n",
        "print(\"prediction class is: \", pred_class)"
      ],
      "metadata": {
        "colab": {
          "base_uri": "https://localhost:8080/"
        },
        "id": "cG912iQpr3WI",
        "outputId": "12bfe70e-df9a-47f7-9096-3a9f5cc586ce"
      },
      "execution_count": null,
      "outputs": [
        {
          "output_type": "stream",
          "name": "stdout",
          "text": [
            "1/1 [==============================] - 0s 15ms/step\n",
            "prediction class is:  [0]\n"
          ]
        }
      ]
    },
    {
      "cell_type": "code",
      "source": [
        "# image preprocessing\n",
        "path=\"/content/dog.jpg\"\n",
        "img=image.load_img(path,target_size=(32,32))\n",
        "img_array= image.img_to_array(img)\n",
        "img_array=tf.expand_dims(img_array,0)\n",
        "img_array/=255.0\n",
        "\n",
        "prediction= model.predict(img_array)\n",
        "pred_class= np.argmax(prediction, axis=1)\n",
        "\n",
        "print(\"prediction class is: \", pred_class)"
      ],
      "metadata": {
        "colab": {
          "base_uri": "https://localhost:8080/"
        },
        "id": "ND__g02AsJlf",
        "outputId": "4e474195-41b1-4167-958e-8e4ae03d1292"
      },
      "execution_count": null,
      "outputs": [
        {
          "output_type": "stream",
          "name": "stdout",
          "text": [
            "1/1 [==============================] - 0s 21ms/step\n",
            "prediction class is:  [4]\n"
          ]
        }
      ]
    },
    {
      "cell_type": "code",
      "source": [
        "# image preprocessing\n",
        "path=\"/content/frog.jpeg\"\n",
        "img=image.load_img(path,target_size=(32,32))\n",
        "img_array= image.img_to_array(img)\n",
        "img_array=tf.expand_dims(img_array,0)\n",
        "img_array/=255.0\n",
        "\n",
        "prediction= model.predict(img_array)\n",
        "pred_class= np.argmax(prediction, axis=1)\n",
        "\n",
        "print(\"prediction class is: \", pred_class)"
      ],
      "metadata": {
        "colab": {
          "base_uri": "https://localhost:8080/"
        },
        "id": "LgFDjTH6sliO",
        "outputId": "d3e06bbc-713a-49b2-9e4a-e7b80d8389cf"
      },
      "execution_count": null,
      "outputs": [
        {
          "output_type": "stream",
          "name": "stdout",
          "text": [
            "1/1 [==============================] - 0s 18ms/step\n",
            "prediction class is:  [6]\n"
          ]
        }
      ]
    }
  ],
  "metadata": {
    "colab": {
      "provenance": [],
      "authorship_tag": "ABX9TyO7p4OE9wQjKxW7FHyrN8yl",
      "include_colab_link": true
    },
    "kernelspec": {
      "display_name": "Python 3",
      "name": "python3"
    },
    "language_info": {
      "name": "python"
    }
  },
  "nbformat": 4,
  "nbformat_minor": 0
}